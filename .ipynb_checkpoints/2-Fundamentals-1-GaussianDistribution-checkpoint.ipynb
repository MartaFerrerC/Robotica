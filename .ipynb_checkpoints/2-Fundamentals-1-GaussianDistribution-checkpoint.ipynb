{
 "cells": [
  {
   "cell_type": "markdown",
   "metadata": {},
   "source": [
    "# Lesson 2.1. Gaussian distribution\n",
    "\n",
    "## Theoretical background\n",
    "\n",
    "The field of robotics has found great success using a probabilistic approach to handle uncertainty.\n",
    "In contrast to industrial robots, which reside in controlled environments, mobile robots (the focus of this course) have to adapt to additional detrimental factors such as: dynamic environments, sensor disturbances, or unreliable movement systems.\n",
    "\n",
    "The core principle of this **probabilistic robotics** is to represent this uncertainty as probability distribution. In most cases we will use the observations from the environment (usually denoted as $z_n$), to estimate the most probable state ($x_n$) and how certain this prediction is ($\\Sigma_{x_n}$).\n",
    "\n",
    "In Lesson 2, we introduce the *Gaussian distribution* (also known as Normal distribution) , given that we will use it extensively during the course.\n"
   ]
  },
  {
   "cell_type": "code",
   "execution_count": 9,
   "metadata": {},
   "outputs": [],
   "source": [
    "# IMPORTED LIBS\n",
    "\n",
    "import numpy as np\n",
    "from numpy import random\n",
    "import matplotlib.pyplot as plt\n",
    "\n",
    "from ipywidgets import interact, interactive, fixed, interact_manual\n",
    "import ipywidgets as widgets"
   ]
  },
  {
   "cell_type": "markdown",
   "metadata": {},
   "source": [
    "## Exercises\n",
    "\n",
    "### Exercise 2.1.1 \n",
    "\n",
    "**Context**\n",
    "\n",
    "The gaussian distribution is caracterized by two parameters:\n",
    "\n",
    "- The **mean** ($\\mu$) is the expected value of the distribution.\n",
    "- The **standard deviation** ($\\sigma$) represents how dispersed are the possible values.\n",
    "\n",
    "The probab1ility distribition function (**pdf**) of a given Gaussian distribution is defined as:\n",
    "\n",
    "$$\n",
    "    N(x | \\mu, \\sigma^2) = \n",
    "        \\frac{1}{\\sqrt{2\\pi\\sigma^2}}\n",
    "        e^{-\\frac{1}{2\\sigma^2}\\left(x - \\mu \\right)^2}\n",
    "$$\n",
    "\n",
    "**Assignment**\n",
    "\n",
    "Complete the following function in order to plot a gaussian pdf with $\\mu = 2$ and $\\sigma = 1$.\n",
    "\n",
    "Evaluate this gaussian pdf in the interval $x \\in [-5, 5]$, using increments of $\\delta = 0.1$."
   ]
  },
  {
   "cell_type": "code",
   "execution_count": 19,
   "metadata": {},
   "outputs": [
    {
     "name": "stdout",
     "output_type": "stream",
     "text": [
      "[9.13472041e-12 1.83033222e-11 3.63096150e-11 7.13132812e-11\n",
      " 1.38667999e-10 2.66955661e-10 5.08814028e-10 9.60143337e-10\n",
      " 1.79378391e-09 3.31788424e-09 6.07588285e-09 1.10157636e-08\n",
      " 1.97731964e-08 3.51395509e-08 6.18262050e-08 1.07697600e-07\n",
      " 1.85736184e-07 3.17134922e-07 5.36103534e-07 8.97243516e-07\n",
      " 1.48671951e-06 2.43896075e-06 3.96129909e-06 6.36982518e-06\n",
      " 1.01408521e-05 1.59837411e-05 2.49424713e-05 3.85351967e-05\n",
      " 5.89430678e-05 8.92616572e-05 1.33830226e-04 1.98655471e-04\n",
      " 2.91946926e-04 4.24780271e-04 6.11901930e-04 8.72682695e-04\n",
      " 1.23221917e-03 1.72256894e-03 2.38408820e-03 3.26681906e-03\n",
      " 4.43184841e-03 5.95253242e-03 7.91545158e-03 1.04209348e-02\n",
      " 1.35829692e-02 1.75283005e-02 2.23945303e-02 2.83270377e-02\n",
      " 3.54745928e-02 4.39835960e-02 5.39909665e-02 6.56158148e-02\n",
      " 7.89501583e-02 9.40490774e-02 1.10920835e-01 1.29517596e-01\n",
      " 1.49727466e-01 1.71368592e-01 1.94186055e-01 2.17852177e-01\n",
      " 2.41970725e-01 2.66085250e-01 2.89691553e-01 3.12253933e-01\n",
      " 3.33224603e-01 3.52065327e-01 3.68270140e-01 3.81387815e-01\n",
      " 3.91042694e-01 3.96952547e-01 3.98942280e-01 3.96952547e-01\n",
      " 3.91042694e-01 3.81387815e-01 3.68270140e-01 3.52065327e-01\n",
      " 3.33224603e-01 3.12253933e-01 2.89691553e-01 2.66085250e-01\n",
      " 2.41970725e-01 2.17852177e-01 1.94186055e-01 1.71368592e-01\n",
      " 1.49727466e-01 1.29517596e-01 1.10920835e-01 9.40490774e-02\n",
      " 7.89501583e-02 6.56158148e-02 5.39909665e-02 4.39835960e-02\n",
      " 3.54745928e-02 2.83270377e-02 2.23945303e-02 1.75283005e-02\n",
      " 1.35829692e-02 1.04209348e-02 7.91545158e-03 5.95253242e-03]\n"
     ]
    }
   ],
   "source": [
    "def demo1(mu=2, sigma=1):\n",
    "    # TODO. Remove exception and insert your code here\n",
    "    x = np.arange(-5,5,0.1)\n",
    "    gaussian = 1/np.sqrt(2*np.pi*np.power(sigma,2))*np.exp((-1/2*np.power(sigma,2))*(np.power((x-mu),2)))\n",
    "    return gaussian\n",
    "\n",
    "print(demo1())"
   ]
  },
  {
   "cell_type": "markdown",
   "metadata": {},
   "source": [
    "### Exercise 2.1.2\n",
    "\n",
    "**Assignment**\n",
    "\n",
    "Create a function named `evaluate_gaussian()` to evaluate $N(x)$ over the values of an array. For this endeavor you should use arrays and methods from the numpy library.\n",
    "\n",
    "The parameters of this function are the mean, standard deviation and the value or values to be evaluated.\n",
    "\n",
    "Test it using the **values from the previous exercise**."
   ]
  },
  {
   "cell_type": "code",
   "execution_count": 21,
   "metadata": {},
   "outputs": [
    {
     "data": {
      "text/plain": [
       "[<matplotlib.lines.Line2D at 0x1d7494a37f0>]"
      ]
     },
     "execution_count": 21,
     "metadata": {},
     "output_type": "execute_result"
    },
    {
     "data": {
      "image/png": "[encoded data removed]",
      "text/plain": [
       "<Figure size 432x288 with 1 Axes>"
      ]
     },
     "metadata": {
      "needs_background": "light"
     },
     "output_type": "display_data"
    }
   ],
   "source": [
    "def evaluate_gaussian(mean, desv, x):\n",
    "    # TODO Complete function\n",
    "    gaussian = 1/np.sqrt(2*np.pi*np.power(desv,2))*np.exp((-1/2*np.power(desv,2))*(np.power((x-mean),2)))\n",
    "    return gaussian\n",
    "\n",
    "x = np.arange(-5,5,0.1) # TODO\n",
    "nx = evaluate_gaussian(2, 1, x) \n",
    "plt.plot(x, nx)"
   ]
  },
  {
   "cell_type": "markdown",
   "metadata": {},
   "source": [
    "### Exercise 2.1.3\n",
    "\n",
    "**Context**\n",
    "\n",
    "Sampling from a random distribution is to generate a set of values that follows that random probability distribution to a given extent.\n",
    "\n",
    "This is of special interest because use of sampling in *particle filters*.\n",
    "\n",
    "**Assignment**\n",
    "\n",
    "Use the function `randn()` in the `random` module of numpy. \n",
    "\n",
    "This module contains functions to do sampling for a variety of random distributions. You can find additional documentation here: [Link](https://docs.scipy.org/doc/numpy/reference/routines.random.html)\n",
    "\n",
    "Sample a gaussian distribution with $\\mu = 2$ and $\\sigma = 2$. Then plot the resulting values along the x axis.\n",
    "\n",
    "![Example of a possible result](images/fig2-1-3.png)"
   ]
  },
  {
   "cell_type": "code",
   "execution_count": 30,
   "metadata": {},
   "outputs": [
    {
     "data": {
      "text/plain": [
       "[<matplotlib.lines.Line2D at 0x1d74975b390>]"
      ]
     },
     "execution_count": 30,
     "metadata": {},
     "output_type": "execute_result"
    },
    {
     "data": {
      "image/png": "[encoded data removed]",
      "text/plain": [
       "<Figure size 432x288 with 1 Axes>"
      ]
     },
     "metadata": {
      "needs_background": "light"
     },
     "output_type": "display_data"
    }
   ],
   "source": [
    "def gen_samples(n, mu, sigma):\n",
    "\n",
    "    return sigma * np.random.randn(n) + mu\n",
    "\n",
    "n = 50\n",
    "samples = gen_samples(n, 2, 2)\n",
    "plt.plot(samples,np.zeros(n), 'bo')"
   ]
  },
  {
   "cell_type": "markdown",
   "metadata": {},
   "source": [
    "Having completed the code above, answer the following questions:\n",
    "    - Which value do the samples concentrate arround? Why?\n",
    "    - Why we observe less samples the further they are from that value?"
   ]
  },
  {
   "cell_type": "markdown",
   "metadata": {},
   "source": [
    "### Exercise 2.1.4\n",
    "\n",
    "**Context**\n",
    "\n",
    "The objective of this assignment is to observe how similar are the samples taken and the pdf of its respective gaussian, as the size of the sample vector changes.\n",
    "\n",
    "**Assignment**\n",
    "\n",
    "1. For this endeavor, we ask you to create a large sample vector, i.e. size 1000.\n",
    "\n",
    "2. Then, complete the function `hist_slice`, which takes an array of samples and a integer `n`. This function plots the first `n` values of the array as a **histogram**.\n",
    "\n",
    "3. To show the results of the exercise we will employ the use of Jupyter widgets. You can find more info about them here [[link]](https://ipywidgets.readthedocs.io/en/latest/index.html), but for the time being use the commented call to `interact`.\n",
    "\n",
    "Play arround with different parameters of the `hist()` function from matplotlib. Docs here: [[Link]](https://matplotlib.org/api/_as_gen/matplotlib.pyplot.hist.html?highlight=hist#matplotlib.pyplot.hist)\n",
    "\n",
    "The bars of the histogram should be normalized by the total area. (HINT: Set the optional `density` and `stacked` parameters of `hist()` to True)\n",
    "\n",
    "![](images/fig2-1-4.png)"
   ]
  },
  {
   "cell_type": "code",
   "execution_count": 35,
   "metadata": {},
   "outputs": [
    {
     "data": {
      "application/vnd.jupyter.widget-view+json": {
       "model_id": "8a103e91cc9d4dac81816c40018741b1",
       "version_major": 2,
       "version_minor": 0
      },
      "text/plain": [
       "interactive(children=(IntSlider(value=500, description='n', max=1000, min=100, step=100), Output()), _dom_clas…"
      ]
     },
     "metadata": {},
     "output_type": "display_data"
    },
    {
     "data": {
      "text/plain": [
       "<function __main__.hist_slice(samples, n)>"
      ]
     },
     "execution_count": 35,
     "metadata": {},
     "output_type": "execute_result"
    }
   ],
   "source": [
    "def hist_slice(samples, n):\n",
    "    \"\"\"Plot histogram for the first n values in samples\"\"\"\n",
    "    # TODO Complete function\n",
    "    plt.hist(samples,n, density = True, stacked = True)\n",
    "\n",
    "random.seed(0)\n",
    "samples = np.random.randn(1000) \n",
    "interact(hist_slice, samples=fixed(samples), n=(100, 1000, 100))"
   ]
  },
  {
   "cell_type": "markdown",
   "metadata": {},
   "source": [
    "## Student discussion\n",
    "In the cell below, discuss what has been done in the notebook, what you have found interesting, or any other relevant thought."
   ]
  },
  {
   "cell_type": "markdown",
   "metadata": {},
   "source": []
  }
 ],
 "metadata": {
  "kernelspec": {
   "display_name": "Python 3",
   "language": "python",
   "name": "python3"
  },
  "language_info": {
   "codemirror_mode": {
    "name": "ipython",
    "version": 3
   },
   "file_extension": ".py",
   "mimetype": "text/x-python",
   "name": "python",
   "nbconvert_exporter": "python",
   "pygments_lexer": "ipython3",
   "version": "3.7.3"
  }
 },
 "nbformat": 4,
 "nbformat_minor": 2
}
